{
 "cells": [
  {
   "cell_type": "code",
   "execution_count": 1,
   "metadata": {},
   "outputs": [],
   "source": [
    "import cv2"
   ]
  },
  {
   "cell_type": "code",
   "execution_count": 2,
   "metadata": {},
   "outputs": [],
   "source": [
    "import pytesseract"
   ]
  },
  {
   "cell_type": "code",
   "execution_count": 3,
   "metadata": {},
   "outputs": [
    {
     "ename": "SyntaxError",
     "evalue": "invalid syntax (<ipython-input-3-f1b18641372f>, line 3)",
     "output_type": "error",
     "traceback": [
      "\u001b[0;36m  File \u001b[0;32m\"<ipython-input-3-f1b18641372f>\"\u001b[0;36m, line \u001b[0;32m3\u001b[0m\n\u001b[0;31m    print image_to_string(Image.open('test1.png'))\u001b[0m\n\u001b[0m                        ^\u001b[0m\n\u001b[0;31mSyntaxError\u001b[0m\u001b[0;31m:\u001b[0m invalid syntax\n"
     ]
    }
   ],
   "source": [
    "import Image\n",
    "from tesseract import image_to_string\n",
    "print image_to_string(Image.open('test1.png'))"
   ]
  },
  {
   "cell_type": "code",
   "execution_count": 4,
   "metadata": {},
   "outputs": [
    {
     "ename": "NameError",
     "evalue": "name 'image_to_string' is not defined",
     "output_type": "error",
     "traceback": [
      "\u001b[0;31m---------------------------------------------------------------------------\u001b[0m",
      "\u001b[0;31mNameError\u001b[0m                                 Traceback (most recent call last)",
      "\u001b[0;32m<ipython-input-4-ee037f4a6244>\u001b[0m in \u001b[0;36m<module>\u001b[0;34m\u001b[0m\n\u001b[0;32m----> 1\u001b[0;31m \u001b[0mhelp\u001b[0m\u001b[0;34m(\u001b[0m\u001b[0mimage_to_string\u001b[0m\u001b[0;34m)\u001b[0m\u001b[0;34m\u001b[0m\u001b[0;34m\u001b[0m\u001b[0m\n\u001b[0m",
      "\u001b[0;31mNameError\u001b[0m: name 'image_to_string' is not defined"
     ]
    }
   ],
   "source": [
    "help(image_to_string)"
   ]
  },
  {
   "cell_type": "code",
   "execution_count": 24,
   "metadata": {},
   "outputs": [],
   "source": [
    "img = cv2.imread('page_3.jpg')"
   ]
  },
  {
   "cell_type": "code",
   "execution_count": 25,
   "metadata": {},
   "outputs": [],
   "source": [
    "text = pytesseract.image_to_string(img)"
   ]
  },
  {
   "cell_type": "code",
   "execution_count": 26,
   "metadata": {},
   "outputs": [
    {
     "data": {
      "text/plain": [
       "'VOLUME 2\\nTHE BOOKS OF MAGIC\\n\\nJEFF LEMIRE PETER MILLIGAN writers\\n\\nMIKEL JANIN LEE GARBETT DANIEL SAMPERE\\nCAM SMITH ADMIRA WIJAYA artists\\n\\nVICTOR DRUJINIU JACK PURCELL\\nSCOTT HANNA WALDEN WONG additional inkers\\n\\nULISES ARREOLA ADMIRA WIJAYA\\nPETE PANTAZIS KYLE RITTER colorists\\n\\nROB LEIGH DAVE SHARPE letterers\\nRYAN SOOK collection cover artist'"
      ]
     },
     "execution_count": 26,
     "metadata": {},
     "output_type": "execute_result"
    }
   ],
   "source": [
    "text"
   ]
  },
  {
   "cell_type": "code",
   "execution_count": 16,
   "metadata": {},
   "outputs": [],
   "source": [
    "import json\n",
    "import requests\n",
    "\n",
    "api_key = '74fc6d1eca2e4a7acd645eb1e540dcb285680882'\n",
    "endpoint = 'https://comicvine.gamespot.com/api/'\n",
    "\n",
    "payload = {'api_key':api_key, 'format':'json'}\n",
    "\n",
    "headers = {\n",
    "    'User-Agent': 'Python API Requests',\n",
    "    'From': 'konark@gmail.com'  # This is another valid field\n",
    "}"
   ]
  },
  {
   "cell_type": "code",
   "execution_count": 17,
   "metadata": {},
   "outputs": [],
   "source": [
    "resource = 'search/'"
   ]
  },
  {
   "cell_type": "code",
   "execution_count": 18,
   "metadata": {},
   "outputs": [],
   "source": [
    "payload.update({'sort':'name:asc','resources':'volume'})"
   ]
  },
  {
   "cell_type": "code",
   "execution_count": 27,
   "metadata": {},
   "outputs": [],
   "source": [
    "payload['query'] = text"
   ]
  },
  {
   "cell_type": "code",
   "execution_count": 28,
   "metadata": {},
   "outputs": [
    {
     "data": {
      "text/plain": [
       "{'api_key': '74fc6d1eca2e4a7acd645eb1e540dcb285680882',\n",
       " 'format': 'json',\n",
       " 'sort': 'name:asc',\n",
       " 'resources': 'volume',\n",
       " 'query': 'VOLUME 2\\nTHE BOOKS OF MAGIC\\n\\nJEFF LEMIRE PETER MILLIGAN writers\\n\\nMIKEL JANIN LEE GARBETT DANIEL SAMPERE\\nCAM SMITH ADMIRA WIJAYA artists\\n\\nVICTOR DRUJINIU JACK PURCELL\\nSCOTT HANNA WALDEN WONG additional inkers\\n\\nULISES ARREOLA ADMIRA WIJAYA\\nPETE PANTAZIS KYLE RITTER colorists\\n\\nROB LEIGH DAVE SHARPE letterers\\nRYAN SOOK collection cover artist'}"
      ]
     },
     "execution_count": 28,
     "metadata": {},
     "output_type": "execute_result"
    }
   ],
   "source": [
    "payload"
   ]
  },
  {
   "cell_type": "code",
   "execution_count": 29,
   "metadata": {},
   "outputs": [
    {
     "data": {
      "text/plain": [
       "1"
      ]
     },
     "execution_count": 29,
     "metadata": {},
     "output_type": "execute_result"
    }
   ],
   "source": [
    "url = endpoint + resource\n",
    "\n",
    "response = requests.get(url, params = payload, headers = headers)\n",
    "\n",
    "r = response.json()\n",
    "r[\"status_code\"]"
   ]
  },
  {
   "cell_type": "code",
   "execution_count": 30,
   "metadata": {},
   "outputs": [
    {
     "data": {
      "text/plain": [
       "list"
      ]
     },
     "execution_count": 30,
     "metadata": {},
     "output_type": "execute_result"
    }
   ],
   "source": [
    "type(r['results'])"
   ]
  },
  {
   "cell_type": "code",
   "execution_count": 31,
   "metadata": {},
   "outputs": [
    {
     "data": {
      "text/plain": [
       "{'aliases': None,\n",
       " 'api_detail_url': 'https://comicvine.gamespot.com/api/volume/4050-40067/',\n",
       " 'count_of_issues': 1,\n",
       " 'date_added': '2011-05-10 00:05:55',\n",
       " 'date_last_updated': '2012-01-14 06:14:07',\n",
       " 'deck': 'a limited edition, 28- page Sketchbook collecting 2 rare short comics, commissions and sketchbook material from the last couple of years. Their are only 500 copies printed and each comes numbered, signed and with an original sketch inside. The book has both black and white and colour pages.',\n",
       " 'description': '<p>A limited edition, 28- page Sketchbook collecting 2 rare short comics,  commissions and sketchbook material from the last couple of years.   Their are only 500 copies printed and each comes numbered, signed and  with an original sketch inside.  The book has both black and white <i>and</i> colour pages.</p>',\n",
       " 'first_issue': {'api_detail_url': 'https://comicvine.gamespot.com/api/issue/4000-269765/',\n",
       "  'id': 269765,\n",
       "  'name': 'Jeff Lemire Sketchbook Vol.1',\n",
       "  'issue_number': '1'},\n",
       " 'id': 40067,\n",
       " 'image': {'icon_url': 'https://comicvine1.cbsistatic.com/uploads/square_avatar/6/62444/1804441-sketchbook_cover_outside.jpg',\n",
       "  'medium_url': 'https://comicvine1.cbsistatic.com/uploads/scale_medium/6/62444/1804441-sketchbook_cover_outside.jpg',\n",
       "  'screen_url': 'https://comicvine1.cbsistatic.com/uploads/screen_medium/6/62444/1804441-sketchbook_cover_outside.jpg',\n",
       "  'screen_large_url': 'https://comicvine1.cbsistatic.com/uploads/screen_kubrick/6/62444/1804441-sketchbook_cover_outside.jpg',\n",
       "  'small_url': 'https://comicvine1.cbsistatic.com/uploads/scale_small/6/62444/1804441-sketchbook_cover_outside.jpg',\n",
       "  'super_url': 'https://comicvine1.cbsistatic.com/uploads/scale_large/6/62444/1804441-sketchbook_cover_outside.jpg',\n",
       "  'thumb_url': 'https://comicvine1.cbsistatic.com/uploads/scale_avatar/6/62444/1804441-sketchbook_cover_outside.jpg',\n",
       "  'tiny_url': 'https://comicvine1.cbsistatic.com/uploads/square_mini/6/62444/1804441-sketchbook_cover_outside.jpg',\n",
       "  'original_url': 'https://comicvine1.cbsistatic.com/uploads/original/6/62444/1804441-sketchbook_cover_outside.jpg',\n",
       "  'image_tags': 'All Images'},\n",
       " 'last_issue': {'api_detail_url': 'https://comicvine.gamespot.com/api/issue/4000-269765/',\n",
       "  'id': 269765,\n",
       "  'name': 'Jeff Lemire Sketchbook Vol.1',\n",
       "  'issue_number': '1'},\n",
       " 'name': 'Jeff Lemire Sketchbook',\n",
       " 'publisher': {'api_detail_url': 'https://comicvine.gamespot.com/api/publisher/4010-2026/',\n",
       "  'id': 2026,\n",
       "  'name': 'self published'},\n",
       " 'site_detail_url': 'https://comicvine.gamespot.com/jeff-lemire-sketchbook/4050-40067/',\n",
       " 'start_year': '2011',\n",
       " 'resource_type': 'volume'}"
      ]
     },
     "execution_count": 31,
     "metadata": {},
     "output_type": "execute_result"
    }
   ],
   "source": [
    "res = r['results']\n",
    "res[0]"
   ]
  },
  {
   "cell_type": "code",
   "execution_count": 43,
   "metadata": {},
   "outputs": [],
   "source": [
    "img = cv2.imread('page_4.jpg')\n",
    "text = pytesseract.image_to_string(img)\n",
    "payload['query'] = text"
   ]
  },
  {
   "cell_type": "code",
   "execution_count": 34,
   "metadata": {},
   "outputs": [
    {
     "data": {
      "text/plain": [
       "'name:asc'"
      ]
     },
     "execution_count": 34,
     "metadata": {},
     "output_type": "execute_result"
    }
   ],
   "source": [
    "payload.pop('sort')"
   ]
  },
  {
   "cell_type": "code",
   "execution_count": 44,
   "metadata": {},
   "outputs": [
    {
     "data": {
      "text/plain": [
       "{'api_key': '74fc6d1eca2e4a7acd645eb1e540dcb285680882',\n",
       " 'format': 'json',\n",
       " 'resources': 'volume',\n",
       " 'query': 'KATIE KUBERT Editor - Original Series ROBIN WILDMAN Editor\\nROBBIN BROSTERMAN Design Director - Books ROBBIE BIEDERMAN Publication Design\\n\\nBOB HARRAS Senior VP - Editor-in-Chief, DC Comics\\n\\nDIANE NELSON President DAN DIDIO and JIM LEE Co-Publishers GEOFF JOHNS Chief Creative Officer\\nJOHN ROOD Executive VP - Sales, Marketing and Business Development AMY GENKINS Senior VP - Business and Legal Affairs\\nNAIRI GARDINER Senior VP - Finance JEFF BOISON VP - Publishing Planning MARK CHIARELLO VP - Art Direction and Design\\nJOHN CUNNINGHAM VP - Marketing TERRI CUNNINGHAM VP - Editorial Administration\\nALISON GILL Senior VP - Manufacturing and Operations HANK KANALZ Senior VP - Vertigo and Integrated Publishing\\nJAY KOGAN VP - Business and Legal Affairs, Publishing JACK MAHAN VP - Business Affairs, Talent\\nNICK NAPOLITANO VP - Manufacturing Administration SUE POHJA VP - Book Sales\\nCOURTNEY SIMMONS Senior VP - Publicity BOB WAYNE Senior VP - Sales\\n\\nBATGIRL VOLUME 4: WANTED\\nPublished by DC Comics. Copyright © 2014 DC Comics. All Rights Reserved.\\nOriginally published in single magazine form as BATGIRL 20-26, BATMAN: THE DARK KNIGHT 23.1 © 2013 DC Comics.\\nAll Rights Reserved. All characters, their distinctive likenesses and related elements featured in this publication are trademarks of\\nDC Comics. The stories, characters and incidents featured in this publication are entirely fictional. DC Comics\\n\\ndoes not read or accept unsolicited ideas, stories or artwork.\\n\\nDC Comics, 1700 Broadway, New York, NY 10019\\nA Warner Bros. Entertainment Company.',\n",
       " 'sort': 'desc'}"
      ]
     },
     "execution_count": 44,
     "metadata": {},
     "output_type": "execute_result"
    }
   ],
   "source": [
    "payload"
   ]
  },
  {
   "cell_type": "code",
   "execution_count": 40,
   "metadata": {},
   "outputs": [
    {
     "data": {
      "text/plain": [
       "1"
      ]
     },
     "execution_count": 40,
     "metadata": {},
     "output_type": "execute_result"
    }
   ],
   "source": [
    "url = endpoint + resource\n",
    "\n",
    "response = requests.get(url, params = payload, headers = headers)\n",
    "\n",
    "r = response.json()\n",
    "r[\"status_code\"]"
   ]
  },
  {
   "cell_type": "code",
   "execution_count": 41,
   "metadata": {},
   "outputs": [
    {
     "data": {
      "text/plain": [
       "{'aliases': None,\n",
       " 'api_detail_url': 'https://comicvine.gamespot.com/api/volume/4050-92132/',\n",
       " 'count_of_issues': 20,\n",
       " 'date_added': '2016-07-10 14:47:06',\n",
       " 'date_last_updated': '2016-07-30 15:59:10',\n",
       " 'deck': None,\n",
       " 'description': None,\n",
       " 'first_issue': {'api_detail_url': 'https://comicvine.gamespot.com/api/issue/4000-539189/',\n",
       "  'id': 539189,\n",
       "  'name': 'Kaliffer pa eventyr',\n",
       "  'issue_number': '2'},\n",
       " 'id': 92132,\n",
       " 'image': {'icon_url': 'https://comicvine1.cbsistatic.com/uploads/square_avatar/0/3125/5313789-sup1.jpg',\n",
       "  'medium_url': 'https://comicvine1.cbsistatic.com/uploads/scale_medium/0/3125/5313789-sup1.jpg',\n",
       "  'screen_url': 'https://comicvine1.cbsistatic.com/uploads/screen_medium/0/3125/5313789-sup1.jpg',\n",
       "  'screen_large_url': 'https://comicvine1.cbsistatic.com/uploads/screen_kubrick/0/3125/5313789-sup1.jpg',\n",
       "  'small_url': 'https://comicvine1.cbsistatic.com/uploads/scale_small/0/3125/5313789-sup1.jpg',\n",
       "  'super_url': 'https://comicvine1.cbsistatic.com/uploads/scale_large/0/3125/5313789-sup1.jpg',\n",
       "  'thumb_url': 'https://comicvine1.cbsistatic.com/uploads/scale_avatar/0/3125/5313789-sup1.jpg',\n",
       "  'tiny_url': 'https://comicvine1.cbsistatic.com/uploads/square_mini/0/3125/5313789-sup1.jpg',\n",
       "  'original_url': 'https://comicvine1.cbsistatic.com/uploads/original/0/3125/5313789-sup1.jpg',\n",
       "  'image_tags': 'All Images'},\n",
       " 'last_issue': {'api_detail_url': 'https://comicvine.gamespot.com/api/issue/4000-539060/',\n",
       "  'id': 539060,\n",
       "  'name': 'Den gule skygges dukker',\n",
       "  'issue_number': '1'},\n",
       " 'name': 'Superserien Senior',\n",
       " 'publisher': {'api_detail_url': 'https://comicvine.gamespot.com/api/publisher/4010-7556/',\n",
       "  'id': 7556,\n",
       "  'name': 'Lademann'},\n",
       " 'site_detail_url': 'https://comicvine.gamespot.com/superserien-senior/4050-92132/',\n",
       " 'start_year': '1972',\n",
       " 'resource_type': 'volume'}"
      ]
     },
     "execution_count": 41,
     "metadata": {},
     "output_type": "execute_result"
    }
   ],
   "source": [
    "res = r['results']\n",
    "res[0]"
   ]
  },
  {
   "cell_type": "code",
   "execution_count": null,
   "metadata": {},
   "outputs": [],
   "source": []
  }
 ],
 "metadata": {
  "kernelspec": {
   "display_name": "Python 3",
   "language": "python",
   "name": "python3"
  },
  "language_info": {
   "codemirror_mode": {
    "name": "ipython",
    "version": 3
   },
   "file_extension": ".py",
   "mimetype": "text/x-python",
   "name": "python",
   "nbconvert_exporter": "python",
   "pygments_lexer": "ipython3",
   "version": "3.7.6"
  }
 },
 "nbformat": 4,
 "nbformat_minor": 4
}

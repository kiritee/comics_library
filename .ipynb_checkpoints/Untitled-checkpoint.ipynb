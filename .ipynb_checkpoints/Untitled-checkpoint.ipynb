{
 "cells": [
  {
   "cell_type": "code",
   "execution_count": 27,
   "metadata": {},
   "outputs": [],
   "source": [
    "import json\n",
    "import requests\n",
    "\n",
    "api_key = '74fc6d1eca2e4a7acd645eb1e540dcb285680882'\n",
    "endpoint = 'https://comicvine.gamespot.com/api/'\n",
    "\n",
    "payload = {'api_key':api_key, 'format':'json'}\n",
    "\n",
    "resource = 'characters/'\n",
    "\n",
    "headers = {\n",
    "    'User-Agent': 'Python API Requests',\n",
    "    'From': 'konark@gmail.com'  # This is another valid field\n",
    "}\n",
    "\n",
    "\n",
    "url = endpoint + resource\n",
    "\n",
    "response = requests.get(url, params = payload, headers = headers)"
   ]
  },
  {
   "cell_type": "code",
   "execution_count": 2,
   "metadata": {},
   "outputs": [
    {
     "data": {
      "text/plain": [
       "requests.models.Response"
      ]
     },
     "execution_count": 2,
     "metadata": {},
     "output_type": "execute_result"
    }
   ],
   "source": [
    "type(response)"
   ]
  },
  {
   "cell_type": "code",
   "execution_count": 3,
   "metadata": {},
   "outputs": [],
   "source": [
    "r = response.json()"
   ]
  },
  {
   "cell_type": "code",
   "execution_count": 4,
   "metadata": {},
   "outputs": [
    {
     "data": {
      "text/plain": [
       "dict"
      ]
     },
     "execution_count": 4,
     "metadata": {},
     "output_type": "execute_result"
    }
   ],
   "source": [
    "type(r)"
   ]
  },
  {
   "cell_type": "code",
   "execution_count": 6,
   "metadata": {},
   "outputs": [
    {
     "data": {
      "text/plain": [
       "dict_keys(['error', 'limit', 'offset', 'number_of_page_results', 'number_of_total_results', 'status_code', 'results', 'version'])"
      ]
     },
     "execution_count": 6,
     "metadata": {},
     "output_type": "execute_result"
    }
   ],
   "source": [
    "r.keys()"
   ]
  },
  {
   "cell_type": "code",
   "execution_count": 21,
   "metadata": {},
   "outputs": [
    {
     "data": {
      "text/plain": [
       "102"
      ]
     },
     "execution_count": 21,
     "metadata": {},
     "output_type": "execute_result"
    }
   ],
   "source": [
    "r[\"status_code\"]"
   ]
  },
  {
   "cell_type": "code",
   "execution_count": 8,
   "metadata": {},
   "outputs": [
    {
     "data": {
      "text/plain": [
       "list"
      ]
     },
     "execution_count": 8,
     "metadata": {},
     "output_type": "execute_result"
    }
   ],
   "source": [
    "type(r['results'])"
   ]
  },
  {
   "cell_type": "code",
   "execution_count": 28,
   "metadata": {},
   "outputs": [],
   "source": [
    "payload.update({'field_list':'name,id,api_detail_url', 'filter':'name:Batman'})"
   ]
  },
  {
   "cell_type": "code",
   "execution_count": 29,
   "metadata": {},
   "outputs": [
    {
     "data": {
      "text/plain": [
       "{'api_key': '74fc6d1eca2e4a7acd645eb1e540dcb285680882',\n",
       " 'format': 'json',\n",
       " 'field_list': 'name,id,api_detail_url',\n",
       " 'filter': 'name:Batman'}"
      ]
     },
     "execution_count": 29,
     "metadata": {},
     "output_type": "execute_result"
    }
   ],
   "source": [
    "payload"
   ]
  },
  {
   "cell_type": "code",
   "execution_count": 30,
   "metadata": {},
   "outputs": [
    {
     "data": {
      "text/plain": [
       "1"
      ]
     },
     "execution_count": 30,
     "metadata": {},
     "output_type": "execute_result"
    }
   ],
   "source": [
    "response = requests.get(url, params = payload, headers = headers)\n",
    "r = response.json()\n",
    "r[\"status_code\"]"
   ]
  },
  {
   "cell_type": "code",
   "execution_count": 31,
   "metadata": {},
   "outputs": [
    {
     "data": {
      "text/plain": [
       "[{'api_detail_url': 'https://comicvine.gamespot.com/api/character/4005-1699/',\n",
       "  'id': 1699,\n",
       "  'name': 'Batman'},\n",
       " {'api_detail_url': 'https://comicvine.gamespot.com/api/character/4005-16818/',\n",
       "  'id': 16818,\n",
       "  'name': 'Batman Junior'},\n",
       " {'api_detail_url': 'https://comicvine.gamespot.com/api/character/4005-53183/',\n",
       "  'id': 53183,\n",
       "  'name': 'Batman Robot'},\n",
       " {'api_detail_url': 'https://comicvine.gamespot.com/api/character/4005-56707/',\n",
       "  'id': 56707,\n",
       "  'name': 'Batman Predator'},\n",
       " {'api_detail_url': 'https://comicvine.gamespot.com/api/character/4005-59062/',\n",
       "  'id': 59062,\n",
       "  'name': 'King Batman'},\n",
       " {'api_detail_url': 'https://comicvine.gamespot.com/api/character/4005-61907/',\n",
       "  'id': 61907,\n",
       "  'name': 'Kingdom Come Batman'},\n",
       " {'api_detail_url': 'https://comicvine.gamespot.com/api/character/4005-66167/',\n",
       "  'id': 66167,\n",
       "  'name': 'Batman Jones'},\n",
       " {'api_detail_url': 'https://comicvine.gamespot.com/api/character/4005-69695/',\n",
       "  'id': 69695,\n",
       "  'name': 'Batman of Zur-En-Arrh'},\n",
       " {'api_detail_url': 'https://comicvine.gamespot.com/api/character/4005-69737/',\n",
       "  'id': 69737,\n",
       "  'name': 'Batman Clone'},\n",
       " {'api_detail_url': 'https://comicvine.gamespot.com/api/character/4005-70711/',\n",
       "  'id': 70711,\n",
       "  'name': 'Batmankoff'},\n",
       " {'api_detail_url': 'https://comicvine.gamespot.com/api/character/4005-74689/',\n",
       "  'id': 74689,\n",
       "  'name': 'Batman 1000000'},\n",
       " {'api_detail_url': 'https://comicvine.gamespot.com/api/character/4005-79774/',\n",
       "  'id': 79774,\n",
       "  'name': 'Batman of 2050'},\n",
       " {'api_detail_url': 'https://comicvine.gamespot.com/api/character/4005-114215/',\n",
       "  'id': 114215,\n",
       "  'name': 'Red Rain Batman'},\n",
       " {'api_detail_url': 'https://comicvine.gamespot.com/api/character/4005-115453/',\n",
       "  'id': 115453,\n",
       "  'name': 'Atomic Batman'},\n",
       " {'api_detail_url': 'https://comicvine.gamespot.com/api/character/4005-118775/',\n",
       "  'id': 118775,\n",
       "  'name': 'Gaslight Batman'},\n",
       " {'api_detail_url': 'https://comicvine.gamespot.com/api/character/4005-141840/',\n",
       "  'id': 141840,\n",
       "  'name': 'Batman Who Laughs'},\n",
       " {'api_detail_url': 'https://comicvine.gamespot.com/api/character/4005-149928/',\n",
       "  'id': 149928,\n",
       "  'name': 'Iron Batman'},\n",
       " {'api_detail_url': 'https://comicvine.gamespot.com/api/character/4005-154468/',\n",
       "  'id': 154468,\n",
       "  'name': 'Batman'}]"
      ]
     },
     "execution_count": 31,
     "metadata": {},
     "output_type": "execute_result"
    }
   ],
   "source": [
    "r['results']"
   ]
  },
  {
   "cell_type": "code",
   "execution_count": 32,
   "metadata": {},
   "outputs": [
    {
     "data": {
      "text/plain": [
       "'name:Batman'"
      ]
     },
     "execution_count": 32,
     "metadata": {},
     "output_type": "execute_result"
    }
   ],
   "source": [
    "resource = 'character/4005-1699/'\n",
    "payload.pop('filter')\n"
   ]
  },
  {
   "cell_type": "code",
   "execution_count": 33,
   "metadata": {},
   "outputs": [
    {
     "data": {
      "text/plain": [
       "'name,id,api_detail_url'"
      ]
     },
     "execution_count": 33,
     "metadata": {},
     "output_type": "execute_result"
    }
   ],
   "source": [
    "payload.pop('field_list')"
   ]
  },
  {
   "cell_type": "code",
   "execution_count": 34,
   "metadata": {},
   "outputs": [
    {
     "data": {
      "text/plain": [
       "{'api_key': '74fc6d1eca2e4a7acd645eb1e540dcb285680882', 'format': 'json'}"
      ]
     },
     "execution_count": 34,
     "metadata": {},
     "output_type": "execute_result"
    }
   ],
   "source": [
    "payload"
   ]
  },
  {
   "cell_type": "code",
   "execution_count": 35,
   "metadata": {},
   "outputs": [],
   "source": [
    "url = endpoint + resource\n",
    "\n",
    "response = requests.get(url, params = payload, headers = headers)r[\"status_code\"]"
   ]
  },
  {
   "cell_type": "code",
   "execution_count": 36,
   "metadata": {},
   "outputs": [],
   "source": [
    "r = response.json()"
   ]
  },
  {
   "cell_type": "code",
   "execution_count": 37,
   "metadata": {},
   "outputs": [
    {
     "data": {
      "text/plain": [
       "1"
      ]
     },
     "execution_count": 37,
     "metadata": {},
     "output_type": "execute_result"
    }
   ],
   "source": [
    "r[\"status_code\"]"
   ]
  },
  {
   "cell_type": "code",
   "execution_count": 41,
   "metadata": {},
   "outputs": [
    {
     "data": {
      "text/plain": [
       "dict_keys(['aliases', 'api_detail_url', 'birth', 'character_enemies', 'character_friends', 'count_of_issue_appearances', 'creators', 'date_added', 'date_last_updated', 'deck', 'description', 'first_appeared_in_issue', 'gender', 'id', 'image', 'issue_credits', 'issues_died_in', 'movies', 'name', 'origin', 'powers', 'publisher', 'real_name', 'site_detail_url', 'story_arc_credits', 'team_enemies', 'team_friends', 'teams', 'volume_credits'])"
      ]
     },
     "execution_count": 41,
     "metadata": {},
     "output_type": "execute_result"
    }
   ],
   "source": [
    "r[\"results\"].keys()"
   ]
  },
  {
   "cell_type": "code",
   "execution_count": 42,
   "metadata": {},
   "outputs": [],
   "source": [
    "batman = r[\"results\"]"
   ]
  },
  {
   "cell_type": "code",
   "execution_count": 44,
   "metadata": {},
   "outputs": [],
   "source": [
    "creator = batman['creators']"
   ]
  },
  {
   "cell_type": "code",
   "execution_count": 47,
   "metadata": {},
   "outputs": [
    {
     "data": {
      "text/plain": [
       "list"
      ]
     },
     "execution_count": 47,
     "metadata": {},
     "output_type": "execute_result"
    }
   ],
   "source": [
    "type(creator)"
   ]
  },
  {
   "cell_type": "code",
   "execution_count": 56,
   "metadata": {},
   "outputs": [
    {
     "name": "stdout",
     "output_type": "stream",
     "text": [
      "['Bill Finger', 'Bob Kane']\n"
     ]
    }
   ],
   "source": [
    "print([creator[i]['name'] for i in range(len(creator))])"
   ]
  },
  {
   "cell_type": "code",
   "execution_count": 58,
   "metadata": {},
   "outputs": [
    {
     "name": "stdout",
     "output_type": "stream",
     "text": [
      "['Agility', 'Stamina', 'Intellect', 'Weapon Master', 'Insanely Rich', 'Power Suit', 'Unarmed Combat', 'Gadgets', 'Escape Artist', 'Tracking', 'Adaptive', 'Swordsmanship', 'Marksmanship', 'Energy Based Constructs', 'Stealth', 'Leadership']\n"
     ]
    }
   ],
   "source": [
    "attribute = 'powers'\n",
    "values = batman[attribute]\n",
    "print([values[i]['name'] for i in range(len(values))])"
   ]
  },
  {
   "cell_type": "code",
   "execution_count": 59,
   "metadata": {},
   "outputs": [
    {
     "data": {
      "text/plain": [
       "{'api_detail_url': 'https://comicvine.gamespot.com/api/power/4035-30/',\n",
       " 'id': 30,\n",
       " 'name': 'Insanely Rich'}"
      ]
     },
     "execution_count": 59,
     "metadata": {},
     "output_type": "execute_result"
    }
   ],
   "source": [
    "values[4]"
   ]
  },
  {
   "cell_type": "markdown",
   "metadata": {},
   "source": []
  },
  {
   "cell_type": "code",
   "execution_count": 60,
   "metadata": {},
   "outputs": [],
   "source": [
    "resource = 'power/4035-30/'"
   ]
  },
  {
   "cell_type": "code",
   "execution_count": 61,
   "metadata": {},
   "outputs": [
    {
     "data": {
      "text/plain": [
       "{'api_key': '74fc6d1eca2e4a7acd645eb1e540dcb285680882', 'format': 'json'}"
      ]
     },
     "execution_count": 61,
     "metadata": {},
     "output_type": "execute_result"
    }
   ],
   "source": [
    "payload"
   ]
  },
  {
   "cell_type": "code",
   "execution_count": 63,
   "metadata": {},
   "outputs": [
    {
     "data": {
      "text/plain": [
       "1"
      ]
     },
     "execution_count": 63,
     "metadata": {},
     "output_type": "execute_result"
    }
   ],
   "source": [
    "url = endpoint + resource\n",
    "\n",
    "response = requests.get(url, params = payload, headers = headers)\n",
    "\n",
    "r = response.json()\n",
    "r[\"status_code\"]\n"
   ]
  },
  {
   "cell_type": "code",
   "execution_count": 64,
   "metadata": {},
   "outputs": [],
   "source": [
    "rich = r[\"results\"]"
   ]
  },
  {
   "cell_type": "code",
   "execution_count": 65,
   "metadata": {},
   "outputs": [
    {
     "data": {
      "text/plain": [
       "dict_keys(['aliases', 'api_detail_url', 'characters', 'date_added', 'date_last_updated', 'description', 'id', 'name', 'site_detail_url'])"
      ]
     },
     "execution_count": 65,
     "metadata": {},
     "output_type": "execute_result"
    }
   ],
   "source": [
    "rich.keys()"
   ]
  },
  {
   "cell_type": "code",
   "execution_count": 69,
   "metadata": {},
   "outputs": [
    {
     "data": {
      "text/plain": [
       "'Lemnos'"
      ]
     },
     "execution_count": 69,
     "metadata": {},
     "output_type": "execute_result"
    }
   ],
   "source": [
    "attribute = 'characters'\n",
    "values = rich[attribute]\n",
    "values[0]['name']"
   ]
  },
  {
   "cell_type": "code",
   "execution_count": 70,
   "metadata": {},
   "outputs": [],
   "source": [
    "resource = 'search/'"
   ]
  },
  {
   "cell_type": "code",
   "execution_count": 71,
   "metadata": {},
   "outputs": [
    {
     "data": {
      "text/plain": [
       "{'api_key': '74fc6d1eca2e4a7acd645eb1e540dcb285680882', 'format': 'json'}"
      ]
     },
     "execution_count": 71,
     "metadata": {},
     "output_type": "execute_result"
    }
   ],
   "source": [
    "payload"
   ]
  },
  {
   "cell_type": "code",
   "execution_count": 88,
   "metadata": {},
   "outputs": [],
   "source": [
    "payload.update({'sort':'name:asc','resources':'volume'})"
   ]
  },
  {
   "cell_type": "code",
   "execution_count": 76,
   "metadata": {},
   "outputs": [
    {
     "data": {
      "text/plain": [
       "{'api_key': '74fc6d1eca2e4a7acd645eb1e540dcb285680882',\n",
       " 'format': 'json',\n",
       " 'sort': 'name:asc',\n",
       " 'resources': 'issue'}"
      ]
     },
     "execution_count": 76,
     "metadata": {},
     "output_type": "execute_result"
    }
   ],
   "source": [
    "payload"
   ]
  },
  {
   "cell_type": "code",
   "execution_count": 77,
   "metadata": {},
   "outputs": [],
   "source": [
    "payload['query']='Batgirl v04 - Wanted (2014) (digital) (Son of Ultron-Empire)'"
   ]
  },
  {
   "cell_type": "code",
   "execution_count": 89,
   "metadata": {},
   "outputs": [
    {
     "data": {
      "text/plain": [
       "{'api_key': '74fc6d1eca2e4a7acd645eb1e540dcb285680882',\n",
       " 'format': 'json',\n",
       " 'sort': 'name:asc',\n",
       " 'resources': 'volume',\n",
       " 'query': 'Batgirl v04 - Wanted (2014) (digital) (Son of Ultron-Empire)'}"
      ]
     },
     "execution_count": 89,
     "metadata": {},
     "output_type": "execute_result"
    }
   ],
   "source": [
    "payload"
   ]
  },
  {
   "cell_type": "code",
   "execution_count": 90,
   "metadata": {},
   "outputs": [
    {
     "data": {
      "text/plain": [
       "1"
      ]
     },
     "execution_count": 90,
     "metadata": {},
     "output_type": "execute_result"
    }
   ],
   "source": [
    "url = endpoint + resource\n",
    "\n",
    "response = requests.get(url, params = payload, headers = headers)\n",
    "\n",
    "r = response.json()\n",
    "r[\"status_code\"]"
   ]
  },
  {
   "cell_type": "code",
   "execution_count": 91,
   "metadata": {},
   "outputs": [
    {
     "data": {
      "text/plain": [
       "list"
      ]
     },
     "execution_count": 91,
     "metadata": {},
     "output_type": "execute_result"
    }
   ],
   "source": [
    "res = r[\"results\"]\n",
    "type(res)"
   ]
  },
  {
   "cell_type": "code",
   "execution_count": 92,
   "metadata": {},
   "outputs": [
    {
     "data": {
      "text/plain": [
       "10"
      ]
     },
     "execution_count": 92,
     "metadata": {},
     "output_type": "execute_result"
    }
   ],
   "source": [
    "len(res)"
   ]
  },
  {
   "cell_type": "code",
   "execution_count": 93,
   "metadata": {},
   "outputs": [
    {
     "name": "stdout",
     "output_type": "stream",
     "text": [
      "['Batgirl: Wanted', 'Orbit: The Digital Empire', 'Batgirl: Son of Penguin', 'Ultron', 'Wanted', 'Wanted', 'Wanted!', 'Batgirl', 'Batgirl', 'Batgirl']\n"
     ]
    }
   ],
   "source": [
    "print([res[i]['name'] for i in range(len(res))])"
   ]
  },
  {
   "cell_type": "code",
   "execution_count": 94,
   "metadata": {},
   "outputs": [
    {
     "data": {
      "text/plain": [
       "dict_keys(['aliases', 'api_detail_url', 'count_of_issues', 'date_added', 'date_last_updated', 'deck', 'description', 'first_issue', 'id', 'image', 'last_issue', 'name', 'publisher', 'site_detail_url', 'start_year', 'resource_type'])"
      ]
     },
     "execution_count": 94,
     "metadata": {},
     "output_type": "execute_result"
    }
   ],
   "source": [
    "res[0].keys()"
   ]
  },
  {
   "cell_type": "code",
   "execution_count": 95,
   "metadata": {},
   "outputs": [
    {
     "data": {
      "text/plain": [
       "{'aliases': None,\n",
       " 'api_detail_url': 'https://comicvine.gamespot.com/api/volume/4050-73620/',\n",
       " 'count_of_issues': 1,\n",
       " 'date_added': '2014-05-03 12:57:30',\n",
       " 'date_last_updated': '2018-02-11 12:52:51',\n",
       " 'deck': None,\n",
       " 'description': '<p>Hardcover collecting <a href=\"https://www.comicvine.com/batgirl/4050-42604/\" data-ref-id=\"4050-42604\">Batgirl</a> #19-26 and <a href=\"https://www.comicvine.com/batman-the-dark-knight-23-1-a-rising-star-of-red/4000-424494/\" data-ref-id=\"4000-424494\">Batman: The Dark Knight #23.1</a>.</p>',\n",
       " 'first_issue': {'api_detail_url': 'https://comicvine.gamespot.com/api/issue/4000-452148/',\n",
       "  'id': 452148,\n",
       "  'name': 'Volume 4',\n",
       "  'issue_number': '1'},\n",
       " 'id': 73620,\n",
       " 'image': {'icon_url': 'https://comicvine1.cbsistatic.com/uploads/square_avatar/6/67663/3833205-04.jpg',\n",
       "  'medium_url': 'https://comicvine1.cbsistatic.com/uploads/scale_medium/6/67663/3833205-04.jpg',\n",
       "  'screen_url': 'https://comicvine1.cbsistatic.com/uploads/screen_medium/6/67663/3833205-04.jpg',\n",
       "  'screen_large_url': 'https://comicvine1.cbsistatic.com/uploads/screen_kubrick/6/67663/3833205-04.jpg',\n",
       "  'small_url': 'https://comicvine1.cbsistatic.com/uploads/scale_small/6/67663/3833205-04.jpg',\n",
       "  'super_url': 'https://comicvine1.cbsistatic.com/uploads/scale_large/6/67663/3833205-04.jpg',\n",
       "  'thumb_url': 'https://comicvine1.cbsistatic.com/uploads/scale_avatar/6/67663/3833205-04.jpg',\n",
       "  'tiny_url': 'https://comicvine1.cbsistatic.com/uploads/square_mini/6/67663/3833205-04.jpg',\n",
       "  'original_url': 'https://comicvine1.cbsistatic.com/uploads/original/6/67663/3833205-04.jpg',\n",
       "  'image_tags': 'All Images'},\n",
       " 'last_issue': {'api_detail_url': 'https://comicvine.gamespot.com/api/issue/4000-452148/',\n",
       "  'id': 452148,\n",
       "  'name': 'Volume 4',\n",
       "  'issue_number': '1'},\n",
       " 'name': 'Batgirl: Wanted',\n",
       " 'publisher': {'api_detail_url': 'https://comicvine.gamespot.com/api/publisher/4010-10/',\n",
       "  'id': 10,\n",
       "  'name': 'DC Comics'},\n",
       " 'site_detail_url': 'https://comicvine.gamespot.com/batgirl-wanted/4050-73620/',\n",
       " 'start_year': '2014',\n",
       " 'resource_type': 'volume'}"
      ]
     },
     "execution_count": 95,
     "metadata": {},
     "output_type": "execute_result"
    }
   ],
   "source": [
    "res[0]"
   ]
  },
  {
   "cell_type": "code",
   "execution_count": null,
   "metadata": {},
   "outputs": [],
   "source": []
  }
 ],
 "metadata": {
  "kernelspec": {
   "display_name": "Python 3",
   "language": "python",
   "name": "python3"
  },
  "language_info": {
   "codemirror_mode": {
    "name": "ipython",
    "version": 3
   },
   "file_extension": ".py",
   "mimetype": "text/x-python",
   "name": "python",
   "nbconvert_exporter": "python",
   "pygments_lexer": "ipython3",
   "version": "3.7.6"
  }
 },
 "nbformat": 4,
 "nbformat_minor": 4
}
